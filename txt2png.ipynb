{
 "cells": [
  {
   "cell_type": "code",
   "execution_count": 1,
   "metadata": {},
   "outputs": [],
   "source": [
    "import winreg\n",
    "import os\n",
    "import cv2\n",
    "\n",
    "# Find and create savepath on Desktop\n",
    "key = winreg.OpenKey(winreg.HKEY_CURRENT_USER, r'Software\\Microsoft\\Windows\\CurrentVersion\\Explorer\\Shell Folders')\n",
    "ptah_desktop = winreg.QueryValueEx(key, \"Desktop\")[0]\n",
    "savefilepath = ptah_desktop + \"/savefilepath/\"\n",
    "# Create savepath\n",
    "if not os.path.exists(savefilepath):\n",
    "    os.makedirs(savefilepath)"
   ]
  },
  {
   "cell_type": "code",
   "execution_count": 2,
   "metadata": {},
   "outputs": [
    {
     "name": "stdout",
     "output_type": "stream",
     "text": [
      "pygame 1.9.6\n",
      "Hello from the pygame community. https://www.pygame.org/contribute.html\n"
     ]
    }
   ],
   "source": [
    "# read txt file and transfer to list\n",
    "with open('./JS.txt', \"r\", encoding = 'utf-8') as f:\n",
    "    lines = f.read()\n",
    "texts = lines.split(\"\\n\")\n",
    "\n",
    "# Print string on image\n",
    "import pygame\n",
    "pygame.init()\n",
    "W, H = (400, 800) # size of image\n",
    "surface = pygame.Surface((W, H))\n",
    "surface.fill((255, 255, 255)) # white background image\n",
    "# font = pygame.font.SysFont(\"arial\", 16) # use system font\n",
    "font = pygame.font.Font('C:/Windows/Fonts/msjh.ttc', 14) # 繁體中文需讀取ttc、ttf檔案\n",
    "col = 0 # number of column\n",
    "for t in texts:\n",
    "    # Setting font color and background color\n",
    "    ftext = font.render(t, True, (0, 0, 0), (255, 255, 255))\n",
    "    w, h = ftext.get_size()\n",
    "    # Print string on background : if width of string image smaller than background image\n",
    "    if w < W - 5:\n",
    "#         print(t)\n",
    "        surface.blit(ftext, (0, col * 18))\n",
    "        col += 1\n",
    "    else:\n",
    "        for k in range(len(t)):\n",
    "            ftext = font.render(t[0:k], True, (0, 0, 0), (255, 255, 255))\n",
    "            w, h = ftext.get_size()\n",
    "            # Get index : if width of string image bigger than background image\n",
    "            if w >= W - 5:\n",
    "#                 print(t)\n",
    "                # Print part of straing on background image\n",
    "                ftext_img = font.render(t[0:k - 5], True, (0, 0, 0), (255, 255, 255))\n",
    "                surface.blit(ftext_img, (0, col * 18))\n",
    "                col += 1\n",
    "                # Keep remaining string into loop\n",
    "                t = t[k - 5:]\n",
    "                ftext_new = font.render(t, True, (0, 0, 0), (255, 255, 255))\n",
    "                # Print remaining straing : if width of remaining string image smaller than background image\n",
    "                if ftext_new.get_size()[0] < W - 5:\n",
    "#                     print(t)\n",
    "                    surface.blit(ftext_new, (0, col * 18))\n",
    "                    col += 1\n",
    "# Save image file\n",
    "pygame.image.save(surface, './JS.png')"
   ]
  }
 ],
 "metadata": {
  "kernelspec": {
   "display_name": "Python 3",
   "language": "python",
   "name": "python3"
  },
  "language_info": {
   "codemirror_mode": {
    "name": "ipython",
    "version": 3
   },
   "file_extension": ".py",
   "mimetype": "text/x-python",
   "name": "python",
   "nbconvert_exporter": "python",
   "pygments_lexer": "ipython3",
   "version": "3.7.0"
  }
 },
 "nbformat": 4,
 "nbformat_minor": 2
}
